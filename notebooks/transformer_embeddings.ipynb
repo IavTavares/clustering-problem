{
 "cells": [
  {
   "cell_type": "code",
   "execution_count": 133,
   "metadata": {},
   "outputs": [],
   "source": [
    "from sentence_transformers import SentenceTransformer\n",
    "import pandas as pd\n",
    "import numpy as np\n",
    "from sklearn.cluster import OPTICS, cluster_optics_dbscan"
   ]
  },
  {
   "cell_type": "code",
   "execution_count": 134,
   "metadata": {},
   "outputs": [],
   "source": [
    "model = SentenceTransformer('sentence-transformers/paraphrase-MiniLM-L3-v2')\n"
   ]
  },
  {
   "cell_type": "code",
   "execution_count": 135,
   "metadata": {},
   "outputs": [],
   "source": [
    "data = pd.read_csv(\"../data/location_data.csv\",index_col=None)"
   ]
  },
  {
   "cell_type": "code",
   "execution_count": 60,
   "metadata": {},
   "outputs": [
    {
     "data": {
      "text/html": [
       "<div>\n",
       "<style scoped>\n",
       "    .dataframe tbody tr th:only-of-type {\n",
       "        vertical-align: middle;\n",
       "    }\n",
       "\n",
       "    .dataframe tbody tr th {\n",
       "        vertical-align: top;\n",
       "    }\n",
       "\n",
       "    .dataframe thead th {\n",
       "        text-align: right;\n",
       "    }\n",
       "</style>\n",
       "<table border=\"1\" class=\"dataframe\">\n",
       "  <thead>\n",
       "    <tr style=\"text-align: right;\">\n",
       "      <th></th>\n",
       "      <th>city</th>\n",
       "      <th>road</th>\n",
       "      <th>house_number</th>\n",
       "      <th>postcode</th>\n",
       "      <th>state</th>\n",
       "    </tr>\n",
       "  </thead>\n",
       "  <tbody>\n",
       "    <tr>\n",
       "      <th>count</th>\n",
       "      <td>63695</td>\n",
       "      <td>63695</td>\n",
       "      <td>63695</td>\n",
       "      <td>63695</td>\n",
       "      <td>63695</td>\n",
       "    </tr>\n",
       "    <tr>\n",
       "      <th>unique</th>\n",
       "      <td>5534</td>\n",
       "      <td>17184</td>\n",
       "      <td>6353</td>\n",
       "      <td>11015</td>\n",
       "      <td>121</td>\n",
       "    </tr>\n",
       "    <tr>\n",
       "      <th>top</th>\n",
       "      <td>houston</td>\n",
       "      <td>main st</td>\n",
       "      <td>101</td>\n",
       "      <td>46227</td>\n",
       "      <td>ca</td>\n",
       "    </tr>\n",
       "    <tr>\n",
       "      <th>freq</th>\n",
       "      <td>640</td>\n",
       "      <td>599</td>\n",
       "      <td>357</td>\n",
       "      <td>33</td>\n",
       "      <td>3251</td>\n",
       "    </tr>\n",
       "  </tbody>\n",
       "</table>\n",
       "</div>"
      ],
      "text/plain": [
       "           city     road house_number postcode  state\n",
       "count     63695    63695        63695    63695  63695\n",
       "unique     5534    17184         6353    11015    121\n",
       "top     houston  main st          101    46227     ca\n",
       "freq        640      599          357       33   3251"
      ]
     },
     "execution_count": 60,
     "metadata": {},
     "output_type": "execute_result"
    }
   ],
   "source": [
    "data.describe()"
   ]
  },
  {
   "cell_type": "code",
   "execution_count": 61,
   "metadata": {},
   "outputs": [
    {
     "data": {
      "text/html": [
       "<div>\n",
       "<style scoped>\n",
       "    .dataframe tbody tr th:only-of-type {\n",
       "        vertical-align: middle;\n",
       "    }\n",
       "\n",
       "    .dataframe tbody tr th {\n",
       "        vertical-align: top;\n",
       "    }\n",
       "\n",
       "    .dataframe thead th {\n",
       "        text-align: right;\n",
       "    }\n",
       "</style>\n",
       "<table border=\"1\" class=\"dataframe\">\n",
       "  <thead>\n",
       "    <tr style=\"text-align: right;\">\n",
       "      <th></th>\n",
       "      <th>city</th>\n",
       "      <th>road</th>\n",
       "      <th>house_number</th>\n",
       "      <th>postcode</th>\n",
       "      <th>state</th>\n",
       "    </tr>\n",
       "  </thead>\n",
       "  <tbody>\n",
       "    <tr>\n",
       "      <th>0</th>\n",
       "      <td>fort worth</td>\n",
       "      <td>sycamore school rd</td>\n",
       "      <td>5421</td>\n",
       "      <td>76123</td>\n",
       "      <td>texas</td>\n",
       "    </tr>\n",
       "    <tr>\n",
       "      <th>1</th>\n",
       "      <td>gautier</td>\n",
       "      <td>highway 90</td>\n",
       "      <td>2701</td>\n",
       "      <td>39553</td>\n",
       "      <td>mississippi</td>\n",
       "    </tr>\n",
       "    <tr>\n",
       "      <th>2</th>\n",
       "      <td>farmington</td>\n",
       "      <td>e main</td>\n",
       "      <td>4750</td>\n",
       "      <td>87401</td>\n",
       "      <td>nm</td>\n",
       "    </tr>\n",
       "    <tr>\n",
       "      <th>3</th>\n",
       "      <td>richland</td>\n",
       "      <td>queensgate drive</td>\n",
       "      <td>2751</td>\n",
       "      <td>99352</td>\n",
       "      <td>washington</td>\n",
       "    </tr>\n",
       "    <tr>\n",
       "      <th>4</th>\n",
       "      <td>davie</td>\n",
       "      <td>s state hwy seven</td>\n",
       "      <td>1600</td>\n",
       "      <td>33317</td>\n",
       "      <td>fl</td>\n",
       "    </tr>\n",
       "  </tbody>\n",
       "</table>\n",
       "</div>"
      ],
      "text/plain": [
       "         city                road house_number postcode        state\n",
       "0  fort worth  sycamore school rd         5421    76123        texas\n",
       "1     gautier          highway 90         2701    39553  mississippi\n",
       "2  farmington              e main         4750    87401           nm\n",
       "3    richland    queensgate drive         2751    99352   washington\n",
       "4       davie   s state hwy seven         1600    33317           fl"
      ]
     },
     "execution_count": 61,
     "metadata": {},
     "output_type": "execute_result"
    }
   ],
   "source": [
    "data.head()"
   ]
  },
  {
   "cell_type": "code",
   "execution_count": 62,
   "metadata": {},
   "outputs": [
    {
     "data": {
      "text/plain": [
       "(63695, 5)"
      ]
     },
     "execution_count": 62,
     "metadata": {},
     "output_type": "execute_result"
    }
   ],
   "source": [
    "data.shape"
   ]
  },
  {
   "cell_type": "code",
   "execution_count": 63,
   "metadata": {},
   "outputs": [
    {
     "data": {
      "text/plain": [
       "(41423, 5)"
      ]
     },
     "execution_count": 63,
     "metadata": {},
     "output_type": "execute_result"
    }
   ],
   "source": [
    "data_no_dup = data.drop_duplicates(ignore_index=True)\n",
    "data_no_dup.shape # we have many duplicate rows"
   ]
  },
  {
   "cell_type": "code",
   "execution_count": 64,
   "metadata": {},
   "outputs": [
    {
     "data": {
      "text/html": [
       "<div>\n",
       "<style scoped>\n",
       "    .dataframe tbody tr th:only-of-type {\n",
       "        vertical-align: middle;\n",
       "    }\n",
       "\n",
       "    .dataframe tbody tr th {\n",
       "        vertical-align: top;\n",
       "    }\n",
       "\n",
       "    .dataframe thead th {\n",
       "        text-align: right;\n",
       "    }\n",
       "</style>\n",
       "<table border=\"1\" class=\"dataframe\">\n",
       "  <thead>\n",
       "    <tr style=\"text-align: right;\">\n",
       "      <th></th>\n",
       "      <th>city</th>\n",
       "      <th>road</th>\n",
       "      <th>house_number</th>\n",
       "      <th>postcode</th>\n",
       "      <th>state</th>\n",
       "    </tr>\n",
       "  </thead>\n",
       "  <tbody>\n",
       "    <tr>\n",
       "      <th>0</th>\n",
       "      <td>fort worth</td>\n",
       "      <td>sycamore school rd</td>\n",
       "      <td>5421</td>\n",
       "      <td>76123</td>\n",
       "      <td>texas</td>\n",
       "    </tr>\n",
       "    <tr>\n",
       "      <th>1</th>\n",
       "      <td>gautier</td>\n",
       "      <td>highway 90</td>\n",
       "      <td>2701</td>\n",
       "      <td>39553</td>\n",
       "      <td>mississippi</td>\n",
       "    </tr>\n",
       "    <tr>\n",
       "      <th>2</th>\n",
       "      <td>farmington</td>\n",
       "      <td>e main</td>\n",
       "      <td>4750</td>\n",
       "      <td>87401</td>\n",
       "      <td>nm</td>\n",
       "    </tr>\n",
       "    <tr>\n",
       "      <th>3</th>\n",
       "      <td>richland</td>\n",
       "      <td>queensgate drive</td>\n",
       "      <td>2751</td>\n",
       "      <td>99352</td>\n",
       "      <td>washington</td>\n",
       "    </tr>\n",
       "    <tr>\n",
       "      <th>4</th>\n",
       "      <td>davie</td>\n",
       "      <td>s state hwy seven</td>\n",
       "      <td>1600</td>\n",
       "      <td>33317</td>\n",
       "      <td>fl</td>\n",
       "    </tr>\n",
       "    <tr>\n",
       "      <th>...</th>\n",
       "      <td>...</td>\n",
       "      <td>...</td>\n",
       "      <td>...</td>\n",
       "      <td>...</td>\n",
       "      <td>...</td>\n",
       "    </tr>\n",
       "    <tr>\n",
       "      <th>41418</th>\n",
       "      <td>highland</td>\n",
       "      <td>baseline st</td>\n",
       "      <td>27774</td>\n",
       "      <td>92346</td>\n",
       "      <td>california</td>\n",
       "    </tr>\n",
       "    <tr>\n",
       "      <th>41419</th>\n",
       "      <td>hilliard</td>\n",
       "      <td>main st</td>\n",
       "      <td>3685</td>\n",
       "      <td>43026</td>\n",
       "      <td>ohio</td>\n",
       "    </tr>\n",
       "    <tr>\n",
       "      <th>41420</th>\n",
       "      <td>window rock</td>\n",
       "      <td>window rock loop road</td>\n",
       "      <td>264</td>\n",
       "      <td>86515</td>\n",
       "      <td>az</td>\n",
       "    </tr>\n",
       "    <tr>\n",
       "      <th>41421</th>\n",
       "      <td>denver</td>\n",
       "      <td>s santa fe dr</td>\n",
       "      <td>1395</td>\n",
       "      <td>80223</td>\n",
       "      <td>co</td>\n",
       "    </tr>\n",
       "    <tr>\n",
       "      <th>41422</th>\n",
       "      <td>pearland</td>\n",
       "      <td>n main st</td>\n",
       "      <td>1919</td>\n",
       "      <td>77581-3305</td>\n",
       "      <td>texas</td>\n",
       "    </tr>\n",
       "  </tbody>\n",
       "</table>\n",
       "<p>41423 rows × 5 columns</p>\n",
       "</div>"
      ],
      "text/plain": [
       "              city                   road house_number    postcode  \\\n",
       "0       fort worth     sycamore school rd         5421       76123   \n",
       "1          gautier             highway 90         2701       39553   \n",
       "2       farmington                 e main         4750       87401   \n",
       "3         richland       queensgate drive         2751       99352   \n",
       "4            davie      s state hwy seven         1600       33317   \n",
       "...            ...                    ...          ...         ...   \n",
       "41418     highland            baseline st        27774       92346   \n",
       "41419     hilliard                main st         3685       43026   \n",
       "41420  window rock  window rock loop road          264       86515   \n",
       "41421       denver          s santa fe dr         1395       80223   \n",
       "41422     pearland              n main st         1919  77581-3305   \n",
       "\n",
       "             state  \n",
       "0            texas  \n",
       "1      mississippi  \n",
       "2               nm  \n",
       "3       washington  \n",
       "4               fl  \n",
       "...            ...  \n",
       "41418   california  \n",
       "41419         ohio  \n",
       "41420           az  \n",
       "41421           co  \n",
       "41422        texas  \n",
       "\n",
       "[41423 rows x 5 columns]"
      ]
     },
     "execution_count": 64,
     "metadata": {},
     "output_type": "execute_result"
    }
   ],
   "source": [
    "data_no_dup # we're keeping the old indexes"
   ]
  },
  {
   "cell_type": "code",
   "execution_count": 136,
   "metadata": {},
   "outputs": [],
   "source": [
    "# sentences = data_no_dup[\"city\"]+\" \"+ data_no_dup[\"road\"] +\" \"+ data_no_dup[\"house_number\"]\\\n",
    "#             +\" \"+ data_no_dup[\"postcode\"]+\" \"+ data_no_dup[\"state\"]\n",
    "sentences = data_no_dup[\"city\"]+\" \"+ data_no_dup[\"road\"] +\" \"+ data_no_dup[\"postcode\"]\\\n",
    "                +\" \"+ data_no_dup[\"state\"]"
   ]
  },
  {
   "cell_type": "code",
   "execution_count": 175,
   "metadata": {},
   "outputs": [
    {
     "data": {
      "text/plain": [
       "'kota jkt utara jl. boulevard artha gading jalan kav no.01 rt.18/rw.8 klp. gading bar. kec. klp. gading 14240 daerah khusus ibukota jakarta'"
      ]
     },
     "execution_count": 175,
     "metadata": {},
     "output_type": "execute_result"
    }
   ],
   "source": [
    "sentences[34357] # this doesn't seem to be an address in the USA...\n",
    "# this will create extra difficulties, and we may need to use a multi-lingual model"
   ]
  },
  {
   "cell_type": "code",
   "execution_count": 157,
   "metadata": {},
   "outputs": [],
   "source": [
    "sentence_embeddings = model.encode(sentences)\n",
    "sentence_embeddings = pd.DataFrame(sentence_embeddings)\n",
    "# this will not scale well..."
   ]
  },
  {
   "cell_type": "code",
   "execution_count": 21,
   "metadata": {},
   "outputs": [],
   "source": [
    "# sentence_embeddings.to_csv(\"../data/embeddings.csv\")\n",
    "from operator import index\n",
    "\n",
    "\n",
    "sentence_embeddings = pd.read_csv(\"../data/embeddings.csv\", index_col = 0)"
   ]
  },
  {
   "cell_type": "code",
   "execution_count": 170,
   "metadata": {},
   "outputs": [],
   "source": [
    "clustering = OPTICS(min_samples=2,\n",
    "                    n_jobs = -1,xi = 0.00001,p=30).fit(sentence_embeddings[:100])"
   ]
  },
  {
   "cell_type": "code",
   "execution_count": 173,
   "metadata": {},
   "outputs": [
    {
     "data": {
      "text/plain": [
       "array([ 0,  7, -1, -1,  3,  8, -1,  0,  4,  5,  6, -1,  4, -1,  1,  9, 11,\n",
       "        8, -1,  3,  5, -1, 10, -1, -1,  3, -1, -1, -1, -1, -1,  3,  9, -1,\n",
       "       -1,  1,  7, 11,  7, -1, -1, -1, 13, -1, -1, -1,  0,  7, -1,  9, -1,\n",
       "       -1, -1,  6, -1,  8, 10, -1,  1, 12,  1, -1, -1, -1, -1,  2,  8, -1,\n",
       "       12, -1, -1, -1, -1, -1, 11, -1,  3, -1,  3,  7, -1, -1, -1, -1, -1,\n",
       "        9, 13, -1,  0, -1,  0, -1, -1, -1, -1, -1, -1,  2, -1,  4])"
      ]
     },
     "execution_count": 173,
     "metadata": {},
     "output_type": "execute_result"
    }
   ],
   "source": [
    "clustering.labels_"
   ]
  },
  {
   "cell_type": "code",
   "execution_count": 176,
   "metadata": {},
   "outputs": [
    {
     "name": "stdout",
     "output_type": "stream",
     "text": [
      "gautier highway 90 39553 mississippi\n",
      "phenix city us highway 80 36867 alabama\n",
      "urbandale 86th st 50322 iowa\n",
      "oakland alameda ave 94601 ca\n",
      "visalia s mooney blvd 93277 ca\n"
     ]
    }
   ],
   "source": [
    "index = sentence_embeddings[:100][clustering.labels_==7].index\n",
    "\n",
    "for id in index:\n",
    "    print(sentences[:100][id])\n"
   ]
  },
  {
   "cell_type": "code",
   "execution_count": 177,
   "metadata": {},
   "outputs": [
    {
     "name": "stdout",
     "output_type": "stream",
     "text": [
      "1\n",
      "36\n",
      "38\n",
      "47\n",
      "79\n"
     ]
    }
   ],
   "source": [
    "for id in index:\n",
    "    print(id)"
   ]
  },
  {
   "cell_type": "code",
   "execution_count": null,
   "metadata": {},
   "outputs": [],
   "source": []
  }
 ],
 "metadata": {
  "kernelspec": {
   "display_name": "Python 3.8.10 ('.ct_env': venv)",
   "language": "python",
   "name": "python3"
  },
  "language_info": {
   "codemirror_mode": {
    "name": "ipython",
    "version": 3
   },
   "file_extension": ".py",
   "mimetype": "text/x-python",
   "name": "python",
   "nbconvert_exporter": "python",
   "pygments_lexer": "ipython3",
   "version": "3.8.10"
  },
  "orig_nbformat": 4,
  "vscode": {
   "interpreter": {
    "hash": "2c6ec7b539cf7800332368bac578b39b54920a42f64a4c48a9888fb2912e6ae6"
   }
  }
 },
 "nbformat": 4,
 "nbformat_minor": 2
}
