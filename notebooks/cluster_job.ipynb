{
 "cells": [
  {
   "cell_type": "code",
   "execution_count": 1,
   "metadata": {},
   "outputs": [
    {
     "name": "stderr",
     "output_type": "stream",
     "text": [
      "/home/ivo/Programming_Personal_Projects/cluster_proj/clustering-problem/.ct_env/lib/python3.10/site-packages/tqdm/auto.py:22: TqdmWarning: IProgress not found. Please update jupyter and ipywidgets. See https://ipywidgets.readthedocs.io/en/stable/user_install.html\n",
      "  from .autonotebook import tqdm as notebook_tqdm\n"
     ]
    }
   ],
   "source": [
    "from sentence_transformers import SentenceTransformer\n",
    "import pandas as pd\n",
    "import numpy as np\n",
    "from sklearn.cluster import OPTICS, cluster_optics_dbscan"
   ]
  },
  {
   "cell_type": "code",
   "execution_count": 2,
   "metadata": {},
   "outputs": [
    {
     "name": "stderr",
     "output_type": "stream",
     "text": [
      "Downloading: 100%|██████████| 690/690 [00:00<00:00, 779kB/s]\n",
      "Downloading: 100%|██████████| 190/190 [00:00<00:00, 127kB/s]\n",
      "Downloading: 100%|██████████| 4.01k/4.01k [00:00<00:00, 3.52MB/s]\n",
      "Downloading: 100%|██████████| 629/629 [00:00<00:00, 443kB/s]\n",
      "Downloading: 100%|██████████| 122/122 [00:00<00:00, 144kB/s]\n",
      "Downloading: 100%|██████████| 69.6M/69.6M [00:06<00:00, 10.3MB/s]\n",
      "Downloading: 100%|██████████| 53.0/53.0 [00:00<00:00, 32.6kB/s]\n",
      "Downloading: 100%|██████████| 112/112 [00:00<00:00, 73.3kB/s]\n",
      "Downloading: 100%|██████████| 466k/466k [00:01<00:00, 363kB/s]  \n",
      "Downloading: 100%|██████████| 314/314 [00:00<00:00, 145kB/s]\n",
      "Downloading: 100%|██████████| 232k/232k [00:02<00:00, 94.2kB/s]\n",
      "Downloading: 100%|██████████| 229/229 [00:00<00:00, 200kB/s]\n"
     ]
    }
   ],
   "source": [
    "model = SentenceTransformer('sentence-transformers/paraphrase-MiniLM-L3-v2')\n"
   ]
  },
  {
   "cell_type": "code",
   "execution_count": 4,
   "metadata": {},
   "outputs": [],
   "source": [
    "data = pd.read_csv(\"../data/location_data.csv\",index_col=None)"
   ]
  },
  {
   "cell_type": "code",
   "execution_count": 5,
   "metadata": {},
   "outputs": [
    {
     "data": {
      "text/html": [
       "<div>\n",
       "<style scoped>\n",
       "    .dataframe tbody tr th:only-of-type {\n",
       "        vertical-align: middle;\n",
       "    }\n",
       "\n",
       "    .dataframe tbody tr th {\n",
       "        vertical-align: top;\n",
       "    }\n",
       "\n",
       "    .dataframe thead th {\n",
       "        text-align: right;\n",
       "    }\n",
       "</style>\n",
       "<table border=\"1\" class=\"dataframe\">\n",
       "  <thead>\n",
       "    <tr style=\"text-align: right;\">\n",
       "      <th></th>\n",
       "      <th>city</th>\n",
       "      <th>road</th>\n",
       "      <th>house_number</th>\n",
       "      <th>postcode</th>\n",
       "      <th>state</th>\n",
       "    </tr>\n",
       "  </thead>\n",
       "  <tbody>\n",
       "    <tr>\n",
       "      <th>count</th>\n",
       "      <td>63695</td>\n",
       "      <td>63695</td>\n",
       "      <td>63695</td>\n",
       "      <td>63695</td>\n",
       "      <td>63695</td>\n",
       "    </tr>\n",
       "    <tr>\n",
       "      <th>unique</th>\n",
       "      <td>5534</td>\n",
       "      <td>17184</td>\n",
       "      <td>6353</td>\n",
       "      <td>11015</td>\n",
       "      <td>121</td>\n",
       "    </tr>\n",
       "    <tr>\n",
       "      <th>top</th>\n",
       "      <td>houston</td>\n",
       "      <td>main st</td>\n",
       "      <td>101</td>\n",
       "      <td>46227</td>\n",
       "      <td>ca</td>\n",
       "    </tr>\n",
       "    <tr>\n",
       "      <th>freq</th>\n",
       "      <td>640</td>\n",
       "      <td>599</td>\n",
       "      <td>357</td>\n",
       "      <td>33</td>\n",
       "      <td>3251</td>\n",
       "    </tr>\n",
       "  </tbody>\n",
       "</table>\n",
       "</div>"
      ],
      "text/plain": [
       "           city     road house_number postcode  state\n",
       "count     63695    63695        63695    63695  63695\n",
       "unique     5534    17184         6353    11015    121\n",
       "top     houston  main st          101    46227     ca\n",
       "freq        640      599          357       33   3251"
      ]
     },
     "execution_count": 5,
     "metadata": {},
     "output_type": "execute_result"
    }
   ],
   "source": [
    "data.describe()"
   ]
  },
  {
   "cell_type": "code",
   "execution_count": 6,
   "metadata": {},
   "outputs": [
    {
     "data": {
      "text/html": [
       "<div>\n",
       "<style scoped>\n",
       "    .dataframe tbody tr th:only-of-type {\n",
       "        vertical-align: middle;\n",
       "    }\n",
       "\n",
       "    .dataframe tbody tr th {\n",
       "        vertical-align: top;\n",
       "    }\n",
       "\n",
       "    .dataframe thead th {\n",
       "        text-align: right;\n",
       "    }\n",
       "</style>\n",
       "<table border=\"1\" class=\"dataframe\">\n",
       "  <thead>\n",
       "    <tr style=\"text-align: right;\">\n",
       "      <th></th>\n",
       "      <th>city</th>\n",
       "      <th>road</th>\n",
       "      <th>house_number</th>\n",
       "      <th>postcode</th>\n",
       "      <th>state</th>\n",
       "    </tr>\n",
       "  </thead>\n",
       "  <tbody>\n",
       "    <tr>\n",
       "      <th>0</th>\n",
       "      <td>fort worth</td>\n",
       "      <td>sycamore school rd</td>\n",
       "      <td>5421</td>\n",
       "      <td>76123</td>\n",
       "      <td>texas</td>\n",
       "    </tr>\n",
       "    <tr>\n",
       "      <th>1</th>\n",
       "      <td>gautier</td>\n",
       "      <td>highway 90</td>\n",
       "      <td>2701</td>\n",
       "      <td>39553</td>\n",
       "      <td>mississippi</td>\n",
       "    </tr>\n",
       "    <tr>\n",
       "      <th>2</th>\n",
       "      <td>farmington</td>\n",
       "      <td>e main</td>\n",
       "      <td>4750</td>\n",
       "      <td>87401</td>\n",
       "      <td>nm</td>\n",
       "    </tr>\n",
       "    <tr>\n",
       "      <th>3</th>\n",
       "      <td>richland</td>\n",
       "      <td>queensgate drive</td>\n",
       "      <td>2751</td>\n",
       "      <td>99352</td>\n",
       "      <td>washington</td>\n",
       "    </tr>\n",
       "    <tr>\n",
       "      <th>4</th>\n",
       "      <td>davie</td>\n",
       "      <td>s state hwy seven</td>\n",
       "      <td>1600</td>\n",
       "      <td>33317</td>\n",
       "      <td>fl</td>\n",
       "    </tr>\n",
       "  </tbody>\n",
       "</table>\n",
       "</div>"
      ],
      "text/plain": [
       "         city                road house_number postcode        state\n",
       "0  fort worth  sycamore school rd         5421    76123        texas\n",
       "1     gautier          highway 90         2701    39553  mississippi\n",
       "2  farmington              e main         4750    87401           nm\n",
       "3    richland    queensgate drive         2751    99352   washington\n",
       "4       davie   s state hwy seven         1600    33317           fl"
      ]
     },
     "execution_count": 6,
     "metadata": {},
     "output_type": "execute_result"
    }
   ],
   "source": [
    "data.head()"
   ]
  },
  {
   "cell_type": "code",
   "execution_count": 7,
   "metadata": {},
   "outputs": [
    {
     "data": {
      "text/plain": [
       "(63695, 5)"
      ]
     },
     "execution_count": 7,
     "metadata": {},
     "output_type": "execute_result"
    }
   ],
   "source": [
    "data.shape"
   ]
  },
  {
   "cell_type": "code",
   "execution_count": 8,
   "metadata": {},
   "outputs": [
    {
     "data": {
      "text/plain": [
       "(41423, 5)"
      ]
     },
     "execution_count": 8,
     "metadata": {},
     "output_type": "execute_result"
    }
   ],
   "source": [
    "data_no_dup = data.drop_duplicates(ignore_index=True) \n",
    "# we don't want to keep the old indexes\n",
    "data_no_dup.shape # we have many duplicate rows"
   ]
  },
  {
   "cell_type": "code",
   "execution_count": 10,
   "metadata": {},
   "outputs": [
    {
     "data": {
      "text/html": [
       "<div>\n",
       "<style scoped>\n",
       "    .dataframe tbody tr th:only-of-type {\n",
       "        vertical-align: middle;\n",
       "    }\n",
       "\n",
       "    .dataframe tbody tr th {\n",
       "        vertical-align: top;\n",
       "    }\n",
       "\n",
       "    .dataframe thead th {\n",
       "        text-align: right;\n",
       "    }\n",
       "</style>\n",
       "<table border=\"1\" class=\"dataframe\">\n",
       "  <thead>\n",
       "    <tr style=\"text-align: right;\">\n",
       "      <th></th>\n",
       "      <th>city</th>\n",
       "      <th>road</th>\n",
       "      <th>house_number</th>\n",
       "      <th>postcode</th>\n",
       "      <th>state</th>\n",
       "    </tr>\n",
       "  </thead>\n",
       "  <tbody>\n",
       "    <tr>\n",
       "      <th>0</th>\n",
       "      <td>fort worth</td>\n",
       "      <td>sycamore school rd</td>\n",
       "      <td>5421</td>\n",
       "      <td>76123</td>\n",
       "      <td>texas</td>\n",
       "    </tr>\n",
       "    <tr>\n",
       "      <th>1</th>\n",
       "      <td>gautier</td>\n",
       "      <td>highway 90</td>\n",
       "      <td>2701</td>\n",
       "      <td>39553</td>\n",
       "      <td>mississippi</td>\n",
       "    </tr>\n",
       "    <tr>\n",
       "      <th>2</th>\n",
       "      <td>farmington</td>\n",
       "      <td>e main</td>\n",
       "      <td>4750</td>\n",
       "      <td>87401</td>\n",
       "      <td>nm</td>\n",
       "    </tr>\n",
       "    <tr>\n",
       "      <th>3</th>\n",
       "      <td>richland</td>\n",
       "      <td>queensgate drive</td>\n",
       "      <td>2751</td>\n",
       "      <td>99352</td>\n",
       "      <td>washington</td>\n",
       "    </tr>\n",
       "    <tr>\n",
       "      <th>4</th>\n",
       "      <td>davie</td>\n",
       "      <td>s state hwy seven</td>\n",
       "      <td>1600</td>\n",
       "      <td>33317</td>\n",
       "      <td>fl</td>\n",
       "    </tr>\n",
       "    <tr>\n",
       "      <th>...</th>\n",
       "      <td>...</td>\n",
       "      <td>...</td>\n",
       "      <td>...</td>\n",
       "      <td>...</td>\n",
       "      <td>...</td>\n",
       "    </tr>\n",
       "    <tr>\n",
       "      <th>41418</th>\n",
       "      <td>highland</td>\n",
       "      <td>baseline st</td>\n",
       "      <td>27774</td>\n",
       "      <td>92346</td>\n",
       "      <td>california</td>\n",
       "    </tr>\n",
       "    <tr>\n",
       "      <th>41419</th>\n",
       "      <td>hilliard</td>\n",
       "      <td>main st</td>\n",
       "      <td>3685</td>\n",
       "      <td>43026</td>\n",
       "      <td>ohio</td>\n",
       "    </tr>\n",
       "    <tr>\n",
       "      <th>41420</th>\n",
       "      <td>window rock</td>\n",
       "      <td>window rock loop road</td>\n",
       "      <td>264</td>\n",
       "      <td>86515</td>\n",
       "      <td>az</td>\n",
       "    </tr>\n",
       "    <tr>\n",
       "      <th>41421</th>\n",
       "      <td>denver</td>\n",
       "      <td>s santa fe dr</td>\n",
       "      <td>1395</td>\n",
       "      <td>80223</td>\n",
       "      <td>co</td>\n",
       "    </tr>\n",
       "    <tr>\n",
       "      <th>41422</th>\n",
       "      <td>pearland</td>\n",
       "      <td>n main st</td>\n",
       "      <td>1919</td>\n",
       "      <td>77581-3305</td>\n",
       "      <td>texas</td>\n",
       "    </tr>\n",
       "  </tbody>\n",
       "</table>\n",
       "<p>41423 rows × 5 columns</p>\n",
       "</div>"
      ],
      "text/plain": [
       "              city                   road house_number    postcode  \\\n",
       "0       fort worth     sycamore school rd         5421       76123   \n",
       "1          gautier             highway 90         2701       39553   \n",
       "2       farmington                 e main         4750       87401   \n",
       "3         richland       queensgate drive         2751       99352   \n",
       "4            davie      s state hwy seven         1600       33317   \n",
       "...            ...                    ...          ...         ...   \n",
       "41418     highland            baseline st        27774       92346   \n",
       "41419     hilliard                main st         3685       43026   \n",
       "41420  window rock  window rock loop road          264       86515   \n",
       "41421       denver          s santa fe dr         1395       80223   \n",
       "41422     pearland              n main st         1919  77581-3305   \n",
       "\n",
       "             state  \n",
       "0            texas  \n",
       "1      mississippi  \n",
       "2               nm  \n",
       "3       washington  \n",
       "4               fl  \n",
       "...            ...  \n",
       "41418   california  \n",
       "41419         ohio  \n",
       "41420           az  \n",
       "41421           co  \n",
       "41422        texas  \n",
       "\n",
       "[41423 rows x 5 columns]"
      ]
     },
     "execution_count": 10,
     "metadata": {},
     "output_type": "execute_result"
    }
   ],
   "source": [
    "data_no_dup"
   ]
  },
  {
   "cell_type": "code",
   "execution_count": 11,
   "metadata": {},
   "outputs": [],
   "source": [
    "sentences = data_no_dup[\"city\"]+\" \"+ data_no_dup[\"road\"]+\" \"+ data_no_dup[\"house_number\"]\\\n",
    "            +\" \"+ data_no_dup[\"postcode\"]+\" \"+ data_no_dup[\"state\"]"
   ]
  },
  {
   "cell_type": "code",
   "execution_count": 12,
   "metadata": {},
   "outputs": [
    {
     "data": {
      "text/plain": [
       "'kota jkt utara jl. boulevard artha gading jalan kav no.01 rt.18/rw.8 klp. gading bar. kec. klp. gading 18 14240 daerah khusus ibukota jakarta'"
      ]
     },
     "execution_count": 12,
     "metadata": {},
     "output_type": "execute_result"
    }
   ],
   "source": [
    "sentences[34357] # this doesn't seem to be an address in the USA..."
   ]
  },
  {
   "cell_type": "code",
   "execution_count": 13,
   "metadata": {},
   "outputs": [],
   "source": [
    "sentence_embeddings = model.encode(sentences)\n",
    "# this will not scale well..."
   ]
  },
  {
   "cell_type": "code",
   "execution_count": 14,
   "metadata": {},
   "outputs": [],
   "source": [
    "pd.DataFrame(sentence_embeddings).to_csv(\"../data/embeddings.csv\")"
   ]
  },
  {
   "cell_type": "code",
   "execution_count": 15,
   "metadata": {},
   "outputs": [],
   "source": [
    "clustering = OPTICS(cluster_method = \"dbscan\",\n",
    "                    n_jobs = -1).fit(sentence_embeddings.astype(\"float16\"))"
   ]
  },
  {
   "cell_type": "code",
   "execution_count": 25,
   "metadata": {},
   "outputs": [],
   "source": [
    "labels_results = clustering.labels_"
   ]
  },
  {
   "cell_type": "code",
   "execution_count": 26,
   "metadata": {},
   "outputs": [],
   "source": [
    "pd.DataFrame(labels_results).to_csv(\"../data/labels_results.csv\")"
   ]
  },
  {
   "cell_type": "code",
   "execution_count": null,
   "metadata": {},
   "outputs": [],
   "source": []
  }
 ],
 "metadata": {
  "kernelspec": {
   "display_name": "Python 3.10.4 ('.ct_env': venv)",
   "language": "python",
   "name": "python3"
  },
  "language_info": {
   "codemirror_mode": {
    "name": "ipython",
    "version": 3
   },
   "file_extension": ".py",
   "mimetype": "text/x-python",
   "name": "python",
   "nbconvert_exporter": "python",
   "pygments_lexer": "ipython3",
   "version": "3.10.4"
  },
  "orig_nbformat": 4,
  "vscode": {
   "interpreter": {
    "hash": "8bc348ed08ec28b38430514b764d8c021b505943a2005a8e8a67a9efb800c509"
   }
  }
 },
 "nbformat": 4,
 "nbformat_minor": 2
}
