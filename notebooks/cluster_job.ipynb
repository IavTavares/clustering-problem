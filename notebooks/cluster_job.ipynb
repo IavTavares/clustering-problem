{
 "cells": [
  {
   "cell_type": "code",
   "execution_count": 14,
   "metadata": {},
   "outputs": [],
   "source": [
    "from sentence_transformers import SentenceTransformer\n",
    "import pandas as pd\n",
    "import numpy as np\n",
    "from sklearn.cluster import OPTICS, cluster_optics_dbscan"
   ]
  },
  {
   "cell_type": "code",
   "execution_count": 15,
   "metadata": {},
   "outputs": [],
   "source": [
    "model = SentenceTransformer('sentence-transformers/paraphrase-MiniLM-L3-v2')\n"
   ]
  },
  {
   "cell_type": "code",
   "execution_count": 18,
   "metadata": {},
   "outputs": [],
   "source": [
    "data = pd.read_csv(\"../data/location_data.csv\",index_col=None)"
   ]
  },
  {
   "cell_type": "code",
   "execution_count": 19,
   "metadata": {},
   "outputs": [
    {
     "data": {
      "text/html": [
       "<div>\n",
       "<style scoped>\n",
       "    .dataframe tbody tr th:only-of-type {\n",
       "        vertical-align: middle;\n",
       "    }\n",
       "\n",
       "    .dataframe tbody tr th {\n",
       "        vertical-align: top;\n",
       "    }\n",
       "\n",
       "    .dataframe thead th {\n",
       "        text-align: right;\n",
       "    }\n",
       "</style>\n",
       "<table border=\"1\" class=\"dataframe\">\n",
       "  <thead>\n",
       "    <tr style=\"text-align: right;\">\n",
       "      <th></th>\n",
       "      <th>city</th>\n",
       "      <th>road</th>\n",
       "      <th>house_number</th>\n",
       "      <th>postcode</th>\n",
       "      <th>state</th>\n",
       "    </tr>\n",
       "  </thead>\n",
       "  <tbody>\n",
       "    <tr>\n",
       "      <th>count</th>\n",
       "      <td>63695</td>\n",
       "      <td>63695</td>\n",
       "      <td>63695</td>\n",
       "      <td>63695</td>\n",
       "      <td>63695</td>\n",
       "    </tr>\n",
       "    <tr>\n",
       "      <th>unique</th>\n",
       "      <td>5534</td>\n",
       "      <td>17184</td>\n",
       "      <td>6353</td>\n",
       "      <td>11015</td>\n",
       "      <td>121</td>\n",
       "    </tr>\n",
       "    <tr>\n",
       "      <th>top</th>\n",
       "      <td>houston</td>\n",
       "      <td>main st</td>\n",
       "      <td>101</td>\n",
       "      <td>46227</td>\n",
       "      <td>ca</td>\n",
       "    </tr>\n",
       "    <tr>\n",
       "      <th>freq</th>\n",
       "      <td>640</td>\n",
       "      <td>599</td>\n",
       "      <td>357</td>\n",
       "      <td>33</td>\n",
       "      <td>3251</td>\n",
       "    </tr>\n",
       "  </tbody>\n",
       "</table>\n",
       "</div>"
      ],
      "text/plain": [
       "           city     road house_number postcode  state\n",
       "count     63695    63695        63695    63695  63695\n",
       "unique     5534    17184         6353    11015    121\n",
       "top     houston  main st          101    46227     ca\n",
       "freq        640      599          357       33   3251"
      ]
     },
     "execution_count": 19,
     "metadata": {},
     "output_type": "execute_result"
    }
   ],
   "source": [
    "data.describe()"
   ]
  },
  {
   "cell_type": "code",
   "execution_count": 20,
   "metadata": {},
   "outputs": [
    {
     "data": {
      "text/html": [
       "<div>\n",
       "<style scoped>\n",
       "    .dataframe tbody tr th:only-of-type {\n",
       "        vertical-align: middle;\n",
       "    }\n",
       "\n",
       "    .dataframe tbody tr th {\n",
       "        vertical-align: top;\n",
       "    }\n",
       "\n",
       "    .dataframe thead th {\n",
       "        text-align: right;\n",
       "    }\n",
       "</style>\n",
       "<table border=\"1\" class=\"dataframe\">\n",
       "  <thead>\n",
       "    <tr style=\"text-align: right;\">\n",
       "      <th></th>\n",
       "      <th>city</th>\n",
       "      <th>road</th>\n",
       "      <th>house_number</th>\n",
       "      <th>postcode</th>\n",
       "      <th>state</th>\n",
       "    </tr>\n",
       "  </thead>\n",
       "  <tbody>\n",
       "    <tr>\n",
       "      <th>0</th>\n",
       "      <td>fort worth</td>\n",
       "      <td>sycamore school rd</td>\n",
       "      <td>5421</td>\n",
       "      <td>76123</td>\n",
       "      <td>texas</td>\n",
       "    </tr>\n",
       "    <tr>\n",
       "      <th>1</th>\n",
       "      <td>gautier</td>\n",
       "      <td>highway 90</td>\n",
       "      <td>2701</td>\n",
       "      <td>39553</td>\n",
       "      <td>mississippi</td>\n",
       "    </tr>\n",
       "    <tr>\n",
       "      <th>2</th>\n",
       "      <td>farmington</td>\n",
       "      <td>e main</td>\n",
       "      <td>4750</td>\n",
       "      <td>87401</td>\n",
       "      <td>nm</td>\n",
       "    </tr>\n",
       "    <tr>\n",
       "      <th>3</th>\n",
       "      <td>richland</td>\n",
       "      <td>queensgate drive</td>\n",
       "      <td>2751</td>\n",
       "      <td>99352</td>\n",
       "      <td>washington</td>\n",
       "    </tr>\n",
       "    <tr>\n",
       "      <th>4</th>\n",
       "      <td>davie</td>\n",
       "      <td>s state hwy seven</td>\n",
       "      <td>1600</td>\n",
       "      <td>33317</td>\n",
       "      <td>fl</td>\n",
       "    </tr>\n",
       "  </tbody>\n",
       "</table>\n",
       "</div>"
      ],
      "text/plain": [
       "         city                road house_number postcode        state\n",
       "0  fort worth  sycamore school rd         5421    76123        texas\n",
       "1     gautier          highway 90         2701    39553  mississippi\n",
       "2  farmington              e main         4750    87401           nm\n",
       "3    richland    queensgate drive         2751    99352   washington\n",
       "4       davie   s state hwy seven         1600    33317           fl"
      ]
     },
     "execution_count": 20,
     "metadata": {},
     "output_type": "execute_result"
    }
   ],
   "source": [
    "data.head()"
   ]
  },
  {
   "cell_type": "code",
   "execution_count": 6,
   "metadata": {},
   "outputs": [
    {
     "data": {
      "text/plain": [
       "(63695, 5)"
      ]
     },
     "execution_count": 6,
     "metadata": {},
     "output_type": "execute_result"
    }
   ],
   "source": [
    "data.shape"
   ]
  },
  {
   "cell_type": "code",
   "execution_count": 30,
   "metadata": {},
   "outputs": [
    {
     "data": {
      "text/plain": [
       "(41423, 5)"
      ]
     },
     "execution_count": 30,
     "metadata": {},
     "output_type": "execute_result"
    }
   ],
   "source": [
    "data_no_dup = data.drop_duplicates(ignore_index=True)\n",
    "data_no_dup.shape # we have many duplicate rows"
   ]
  },
  {
   "cell_type": "code",
   "execution_count": 31,
   "metadata": {},
   "outputs": [
    {
     "data": {
      "text/html": [
       "<div>\n",
       "<style scoped>\n",
       "    .dataframe tbody tr th:only-of-type {\n",
       "        vertical-align: middle;\n",
       "    }\n",
       "\n",
       "    .dataframe tbody tr th {\n",
       "        vertical-align: top;\n",
       "    }\n",
       "\n",
       "    .dataframe thead th {\n",
       "        text-align: right;\n",
       "    }\n",
       "</style>\n",
       "<table border=\"1\" class=\"dataframe\">\n",
       "  <thead>\n",
       "    <tr style=\"text-align: right;\">\n",
       "      <th></th>\n",
       "      <th>city</th>\n",
       "      <th>road</th>\n",
       "      <th>house_number</th>\n",
       "      <th>postcode</th>\n",
       "      <th>state</th>\n",
       "    </tr>\n",
       "  </thead>\n",
       "  <tbody>\n",
       "    <tr>\n",
       "      <th>0</th>\n",
       "      <td>fort worth</td>\n",
       "      <td>sycamore school rd</td>\n",
       "      <td>5421</td>\n",
       "      <td>76123</td>\n",
       "      <td>texas</td>\n",
       "    </tr>\n",
       "    <tr>\n",
       "      <th>1</th>\n",
       "      <td>gautier</td>\n",
       "      <td>highway 90</td>\n",
       "      <td>2701</td>\n",
       "      <td>39553</td>\n",
       "      <td>mississippi</td>\n",
       "    </tr>\n",
       "    <tr>\n",
       "      <th>2</th>\n",
       "      <td>farmington</td>\n",
       "      <td>e main</td>\n",
       "      <td>4750</td>\n",
       "      <td>87401</td>\n",
       "      <td>nm</td>\n",
       "    </tr>\n",
       "    <tr>\n",
       "      <th>3</th>\n",
       "      <td>richland</td>\n",
       "      <td>queensgate drive</td>\n",
       "      <td>2751</td>\n",
       "      <td>99352</td>\n",
       "      <td>washington</td>\n",
       "    </tr>\n",
       "    <tr>\n",
       "      <th>4</th>\n",
       "      <td>davie</td>\n",
       "      <td>s state hwy seven</td>\n",
       "      <td>1600</td>\n",
       "      <td>33317</td>\n",
       "      <td>fl</td>\n",
       "    </tr>\n",
       "    <tr>\n",
       "      <th>...</th>\n",
       "      <td>...</td>\n",
       "      <td>...</td>\n",
       "      <td>...</td>\n",
       "      <td>...</td>\n",
       "      <td>...</td>\n",
       "    </tr>\n",
       "    <tr>\n",
       "      <th>41418</th>\n",
       "      <td>highland</td>\n",
       "      <td>baseline st</td>\n",
       "      <td>27774</td>\n",
       "      <td>92346</td>\n",
       "      <td>california</td>\n",
       "    </tr>\n",
       "    <tr>\n",
       "      <th>41419</th>\n",
       "      <td>hilliard</td>\n",
       "      <td>main st</td>\n",
       "      <td>3685</td>\n",
       "      <td>43026</td>\n",
       "      <td>ohio</td>\n",
       "    </tr>\n",
       "    <tr>\n",
       "      <th>41420</th>\n",
       "      <td>window rock</td>\n",
       "      <td>window rock loop road</td>\n",
       "      <td>264</td>\n",
       "      <td>86515</td>\n",
       "      <td>az</td>\n",
       "    </tr>\n",
       "    <tr>\n",
       "      <th>41421</th>\n",
       "      <td>denver</td>\n",
       "      <td>s santa fe dr</td>\n",
       "      <td>1395</td>\n",
       "      <td>80223</td>\n",
       "      <td>co</td>\n",
       "    </tr>\n",
       "    <tr>\n",
       "      <th>41422</th>\n",
       "      <td>pearland</td>\n",
       "      <td>n main st</td>\n",
       "      <td>1919</td>\n",
       "      <td>77581-3305</td>\n",
       "      <td>texas</td>\n",
       "    </tr>\n",
       "  </tbody>\n",
       "</table>\n",
       "<p>41423 rows × 5 columns</p>\n",
       "</div>"
      ],
      "text/plain": [
       "              city                   road house_number    postcode  \\\n",
       "0       fort worth     sycamore school rd         5421       76123   \n",
       "1          gautier             highway 90         2701       39553   \n",
       "2       farmington                 e main         4750       87401   \n",
       "3         richland       queensgate drive         2751       99352   \n",
       "4            davie      s state hwy seven         1600       33317   \n",
       "...            ...                    ...          ...         ...   \n",
       "41418     highland            baseline st        27774       92346   \n",
       "41419     hilliard                main st         3685       43026   \n",
       "41420  window rock  window rock loop road          264       86515   \n",
       "41421       denver          s santa fe dr         1395       80223   \n",
       "41422     pearland              n main st         1919  77581-3305   \n",
       "\n",
       "             state  \n",
       "0            texas  \n",
       "1      mississippi  \n",
       "2               nm  \n",
       "3       washington  \n",
       "4               fl  \n",
       "...            ...  \n",
       "41418   california  \n",
       "41419         ohio  \n",
       "41420           az  \n",
       "41421           co  \n",
       "41422        texas  \n",
       "\n",
       "[41423 rows x 5 columns]"
      ]
     },
     "execution_count": 31,
     "metadata": {},
     "output_type": "execute_result"
    }
   ],
   "source": [
    "data_no_dup # we're keeping the old indexes"
   ]
  },
  {
   "cell_type": "code",
   "execution_count": 32,
   "metadata": {},
   "outputs": [],
   "source": [
    "sentences = data_no_dup[\"city\"]+\" \"+ data_no_dup[\"road\"]+\" \"+ data_no_dup[\"house_number\"]\\\n",
    "            +\" \"+ data_no_dup[\"postcode\"]+\" \"+ data_no_dup[\"state\"]"
   ]
  },
  {
   "cell_type": "code",
   "execution_count": 33,
   "metadata": {},
   "outputs": [
    {
     "data": {
      "text/plain": [
       "'kota jkt utara jl. boulevard artha gading jalan kav no.01 rt.18/rw.8 klp. gading bar. kec. klp. gading 18 14240 daerah khusus ibukota jakarta'"
      ]
     },
     "execution_count": 33,
     "metadata": {},
     "output_type": "execute_result"
    }
   ],
   "source": [
    "sentences[34357] # this doesn't seem to be an address in the USA..."
   ]
  },
  {
   "cell_type": "code",
   "execution_count": 34,
   "metadata": {},
   "outputs": [],
   "source": [
    "sentence_embeddings = model.encode(sentences)\n",
    "# this will not scale well..."
   ]
  },
  {
   "cell_type": "code",
   "execution_count": 13,
   "metadata": {},
   "outputs": [],
   "source": [
    "pd.DataFrame(sentence_embeddings).to_csv(\"../data/embeddings.csv\")"
   ]
  },
  {
   "cell_type": "code",
   "execution_count": 24,
   "metadata": {},
   "outputs": [
    {
     "ename": "KeyboardInterrupt",
     "evalue": "",
     "output_type": "error",
     "traceback": [
      "\u001b[0;31m---------------------------------------------------------------------------\u001b[0m",
      "\u001b[0;31mKeyboardInterrupt\u001b[0m                         Traceback (most recent call last)",
      "\u001b[1;32m/home/ivo/Programming_Personal_Projects/Cluster Task/clustering-problem/notebooks/cluster_job.ipynb Cell 12\u001b[0m in \u001b[0;36m<cell line: 1>\u001b[0;34m()\u001b[0m\n\u001b[0;32m----> <a href='vscode-notebook-cell:/home/ivo/Programming_Personal_Projects/Cluster%20Task/clustering-problem/notebooks/cluster_job.ipynb#ch0000014?line=0'>1</a>\u001b[0m clustering \u001b[39m=\u001b[39m OPTICS(min_samples\u001b[39m=\u001b[39;49m\u001b[39m2\u001b[39;49m, cluster_method \u001b[39m=\u001b[39;49m \u001b[39m\"\u001b[39;49m\u001b[39mdbscan\u001b[39;49m\u001b[39m\"\u001b[39;49m,\n\u001b[1;32m      <a href='vscode-notebook-cell:/home/ivo/Programming_Personal_Projects/Cluster%20Task/clustering-problem/notebooks/cluster_job.ipynb#ch0000014?line=1'>2</a>\u001b[0m                     n_jobs \u001b[39m=\u001b[39;49m \u001b[39m-\u001b[39;49m\u001b[39m1\u001b[39;49m, algorithm \u001b[39m=\u001b[39;49m \u001b[39m\"\u001b[39;49m\u001b[39mball_tree\u001b[39;49m\u001b[39m\"\u001b[39;49m)\u001b[39m.\u001b[39;49mfit(sentence_embeddings\u001b[39m.\u001b[39;49mastype(\u001b[39m\"\u001b[39;49m\u001b[39mfloat16\u001b[39;49m\u001b[39m\"\u001b[39;49m))\n",
      "File \u001b[0;32m~/Programming_Personal_Projects/Cluster Task/clustering-problem/.ct_env/lib/python3.8/site-packages/sklearn/cluster/_optics.py:302\u001b[0m, in \u001b[0;36mOPTICS.fit\u001b[0;34m(self, X, y)\u001b[0m\n\u001b[1;32m    291\u001b[0m \u001b[39mif\u001b[39;00m \u001b[39mself\u001b[39m\u001b[39m.\u001b[39mcluster_method \u001b[39mnot\u001b[39;00m \u001b[39min\u001b[39;00m [\u001b[39m\"\u001b[39m\u001b[39mdbscan\u001b[39m\u001b[39m\"\u001b[39m, \u001b[39m\"\u001b[39m\u001b[39mxi\u001b[39m\u001b[39m\"\u001b[39m]:\n\u001b[1;32m    292\u001b[0m     \u001b[39mraise\u001b[39;00m \u001b[39mValueError\u001b[39;00m(\n\u001b[1;32m    293\u001b[0m         \u001b[39m\"\u001b[39m\u001b[39mcluster_method should be one of \u001b[39m\u001b[39m'\u001b[39m\u001b[39mdbscan\u001b[39m\u001b[39m'\u001b[39m\u001b[39m or \u001b[39m\u001b[39m'\u001b[39m\u001b[39mxi\u001b[39m\u001b[39m'\u001b[39m\u001b[39m but is \u001b[39m\u001b[39m%s\u001b[39;00m\u001b[39m\"\u001b[39m\n\u001b[1;32m    294\u001b[0m         \u001b[39m%\u001b[39m \u001b[39mself\u001b[39m\u001b[39m.\u001b[39mcluster_method\n\u001b[1;32m    295\u001b[0m     )\n\u001b[1;32m    297\u001b[0m (\n\u001b[1;32m    298\u001b[0m     \u001b[39mself\u001b[39m\u001b[39m.\u001b[39mordering_,\n\u001b[1;32m    299\u001b[0m     \u001b[39mself\u001b[39m\u001b[39m.\u001b[39mcore_distances_,\n\u001b[1;32m    300\u001b[0m     \u001b[39mself\u001b[39m\u001b[39m.\u001b[39mreachability_,\n\u001b[1;32m    301\u001b[0m     \u001b[39mself\u001b[39m\u001b[39m.\u001b[39mpredecessor_,\n\u001b[0;32m--> 302\u001b[0m ) \u001b[39m=\u001b[39m memory\u001b[39m.\u001b[39;49mcache(compute_optics_graph)(\n\u001b[1;32m    303\u001b[0m     X\u001b[39m=\u001b[39;49mX,\n\u001b[1;32m    304\u001b[0m     min_samples\u001b[39m=\u001b[39;49m\u001b[39mself\u001b[39;49m\u001b[39m.\u001b[39;49mmin_samples,\n\u001b[1;32m    305\u001b[0m     algorithm\u001b[39m=\u001b[39;49m\u001b[39mself\u001b[39;49m\u001b[39m.\u001b[39;49malgorithm,\n\u001b[1;32m    306\u001b[0m     leaf_size\u001b[39m=\u001b[39;49m\u001b[39mself\u001b[39;49m\u001b[39m.\u001b[39;49mleaf_size,\n\u001b[1;32m    307\u001b[0m     metric\u001b[39m=\u001b[39;49m\u001b[39mself\u001b[39;49m\u001b[39m.\u001b[39;49mmetric,\n\u001b[1;32m    308\u001b[0m     metric_params\u001b[39m=\u001b[39;49m\u001b[39mself\u001b[39;49m\u001b[39m.\u001b[39;49mmetric_params,\n\u001b[1;32m    309\u001b[0m     p\u001b[39m=\u001b[39;49m\u001b[39mself\u001b[39;49m\u001b[39m.\u001b[39;49mp,\n\u001b[1;32m    310\u001b[0m     n_jobs\u001b[39m=\u001b[39;49m\u001b[39mself\u001b[39;49m\u001b[39m.\u001b[39;49mn_jobs,\n\u001b[1;32m    311\u001b[0m     max_eps\u001b[39m=\u001b[39;49m\u001b[39mself\u001b[39;49m\u001b[39m.\u001b[39;49mmax_eps,\n\u001b[1;32m    312\u001b[0m )\n\u001b[1;32m    314\u001b[0m \u001b[39m# Extract clusters from the calculated orders and reachability\u001b[39;00m\n\u001b[1;32m    315\u001b[0m \u001b[39mif\u001b[39;00m \u001b[39mself\u001b[39m\u001b[39m.\u001b[39mcluster_method \u001b[39m==\u001b[39m \u001b[39m\"\u001b[39m\u001b[39mxi\u001b[39m\u001b[39m\"\u001b[39m:\n",
      "File \u001b[0;32m~/Programming_Personal_Projects/Cluster Task/clustering-problem/.ct_env/lib/python3.8/site-packages/joblib/memory.py:349\u001b[0m, in \u001b[0;36mNotMemorizedFunc.__call__\u001b[0;34m(self, *args, **kwargs)\u001b[0m\n\u001b[1;32m    348\u001b[0m \u001b[39mdef\u001b[39;00m \u001b[39m__call__\u001b[39m(\u001b[39mself\u001b[39m, \u001b[39m*\u001b[39margs, \u001b[39m*\u001b[39m\u001b[39m*\u001b[39mkwargs):\n\u001b[0;32m--> 349\u001b[0m     \u001b[39mreturn\u001b[39;00m \u001b[39mself\u001b[39;49m\u001b[39m.\u001b[39;49mfunc(\u001b[39m*\u001b[39;49margs, \u001b[39m*\u001b[39;49m\u001b[39m*\u001b[39;49mkwargs)\n",
      "File \u001b[0;32m~/Programming_Personal_Projects/Cluster Task/clustering-problem/.ct_env/lib/python3.8/site-packages/sklearn/cluster/_optics.py:530\u001b[0m, in \u001b[0;36mcompute_optics_graph\u001b[0;34m(X, min_samples, max_eps, metric, p, metric_params, algorithm, leaf_size, n_jobs)\u001b[0m\n\u001b[1;32m    526\u001b[0m nbrs\u001b[39m.\u001b[39mfit(X)\n\u001b[1;32m    527\u001b[0m \u001b[39m# Here we first do a kNN query for each point, this differs from\u001b[39;00m\n\u001b[1;32m    528\u001b[0m \u001b[39m# the original OPTICS that only used epsilon range queries.\u001b[39;00m\n\u001b[1;32m    529\u001b[0m \u001b[39m# TODO: handle working_memory somehow?\u001b[39;00m\n\u001b[0;32m--> 530\u001b[0m core_distances_ \u001b[39m=\u001b[39m _compute_core_distances_(\n\u001b[1;32m    531\u001b[0m     X\u001b[39m=\u001b[39;49mX, neighbors\u001b[39m=\u001b[39;49mnbrs, min_samples\u001b[39m=\u001b[39;49mmin_samples, working_memory\u001b[39m=\u001b[39;49m\u001b[39mNone\u001b[39;49;00m\n\u001b[1;32m    532\u001b[0m )\n\u001b[1;32m    533\u001b[0m \u001b[39m# OPTICS puts an upper limit on these, use inf for undefined.\u001b[39;00m\n\u001b[1;32m    534\u001b[0m core_distances_[core_distances_ \u001b[39m>\u001b[39m max_eps] \u001b[39m=\u001b[39m np\u001b[39m.\u001b[39minf\n",
      "File \u001b[0;32m~/Programming_Personal_Projects/Cluster Task/clustering-problem/.ct_env/lib/python3.8/site-packages/sklearn/cluster/_optics.py:394\u001b[0m, in \u001b[0;36m_compute_core_distances_\u001b[0;34m(X, neighbors, min_samples, working_memory)\u001b[0m\n\u001b[1;32m    392\u001b[0m slices \u001b[39m=\u001b[39m gen_batches(n_samples, chunk_n_rows)\n\u001b[1;32m    393\u001b[0m \u001b[39mfor\u001b[39;00m sl \u001b[39min\u001b[39;00m slices:\n\u001b[0;32m--> 394\u001b[0m     core_distances[sl] \u001b[39m=\u001b[39m neighbors\u001b[39m.\u001b[39;49mkneighbors(X[sl], min_samples)[\u001b[39m0\u001b[39m][:, \u001b[39m-\u001b[39m\u001b[39m1\u001b[39m]\n\u001b[1;32m    395\u001b[0m \u001b[39mreturn\u001b[39;00m core_distances\n",
      "File \u001b[0;32m~/Programming_Personal_Projects/Cluster Task/clustering-problem/.ct_env/lib/python3.8/site-packages/sklearn/neighbors/_base.py:814\u001b[0m, in \u001b[0;36mKNeighborsMixin.kneighbors\u001b[0;34m(self, X, n_neighbors, return_distance)\u001b[0m\n\u001b[1;32m    808\u001b[0m     \u001b[39mif\u001b[39;00m issparse(X):\n\u001b[1;32m    809\u001b[0m         \u001b[39mraise\u001b[39;00m \u001b[39mValueError\u001b[39;00m(\n\u001b[1;32m    810\u001b[0m             \u001b[39m\"\u001b[39m\u001b[39m%s\u001b[39;00m\u001b[39m does not work with sparse matrices. Densify the data, \u001b[39m\u001b[39m\"\u001b[39m\n\u001b[1;32m    811\u001b[0m             \u001b[39m\"\u001b[39m\u001b[39mor set algorithm=\u001b[39m\u001b[39m'\u001b[39m\u001b[39mbrute\u001b[39m\u001b[39m'\u001b[39m\u001b[39m\"\u001b[39m\n\u001b[1;32m    812\u001b[0m             \u001b[39m%\u001b[39m \u001b[39mself\u001b[39m\u001b[39m.\u001b[39m_fit_method\n\u001b[1;32m    813\u001b[0m         )\n\u001b[0;32m--> 814\u001b[0m     chunked_results \u001b[39m=\u001b[39m Parallel(n_jobs, prefer\u001b[39m=\u001b[39;49m\u001b[39m\"\u001b[39;49m\u001b[39mthreads\u001b[39;49m\u001b[39m\"\u001b[39;49m)(\n\u001b[1;32m    815\u001b[0m         delayed(_tree_query_parallel_helper)(\n\u001b[1;32m    816\u001b[0m             \u001b[39mself\u001b[39;49m\u001b[39m.\u001b[39;49m_tree, X[s], n_neighbors, return_distance\n\u001b[1;32m    817\u001b[0m         )\n\u001b[1;32m    818\u001b[0m         \u001b[39mfor\u001b[39;49;00m s \u001b[39min\u001b[39;49;00m gen_even_slices(X\u001b[39m.\u001b[39;49mshape[\u001b[39m0\u001b[39;49m], n_jobs)\n\u001b[1;32m    819\u001b[0m     )\n\u001b[1;32m    820\u001b[0m \u001b[39melse\u001b[39;00m:\n\u001b[1;32m    821\u001b[0m     \u001b[39mraise\u001b[39;00m \u001b[39mValueError\u001b[39;00m(\u001b[39m\"\u001b[39m\u001b[39minternal: _fit_method not recognized\u001b[39m\u001b[39m\"\u001b[39m)\n",
      "File \u001b[0;32m~/Programming_Personal_Projects/Cluster Task/clustering-problem/.ct_env/lib/python3.8/site-packages/joblib/parallel.py:1056\u001b[0m, in \u001b[0;36mParallel.__call__\u001b[0;34m(self, iterable)\u001b[0m\n\u001b[1;32m   1053\u001b[0m     \u001b[39mself\u001b[39m\u001b[39m.\u001b[39m_iterating \u001b[39m=\u001b[39m \u001b[39mFalse\u001b[39;00m\n\u001b[1;32m   1055\u001b[0m \u001b[39mwith\u001b[39;00m \u001b[39mself\u001b[39m\u001b[39m.\u001b[39m_backend\u001b[39m.\u001b[39mretrieval_context():\n\u001b[0;32m-> 1056\u001b[0m     \u001b[39mself\u001b[39;49m\u001b[39m.\u001b[39;49mretrieve()\n\u001b[1;32m   1057\u001b[0m \u001b[39m# Make sure that we get a last message telling us we are done\u001b[39;00m\n\u001b[1;32m   1058\u001b[0m elapsed_time \u001b[39m=\u001b[39m time\u001b[39m.\u001b[39mtime() \u001b[39m-\u001b[39m \u001b[39mself\u001b[39m\u001b[39m.\u001b[39m_start_time\n",
      "File \u001b[0;32m~/Programming_Personal_Projects/Cluster Task/clustering-problem/.ct_env/lib/python3.8/site-packages/joblib/parallel.py:935\u001b[0m, in \u001b[0;36mParallel.retrieve\u001b[0;34m(self)\u001b[0m\n\u001b[1;32m    933\u001b[0m \u001b[39mtry\u001b[39;00m:\n\u001b[1;32m    934\u001b[0m     \u001b[39mif\u001b[39;00m \u001b[39mgetattr\u001b[39m(\u001b[39mself\u001b[39m\u001b[39m.\u001b[39m_backend, \u001b[39m'\u001b[39m\u001b[39msupports_timeout\u001b[39m\u001b[39m'\u001b[39m, \u001b[39mFalse\u001b[39;00m):\n\u001b[0;32m--> 935\u001b[0m         \u001b[39mself\u001b[39m\u001b[39m.\u001b[39m_output\u001b[39m.\u001b[39mextend(job\u001b[39m.\u001b[39;49mget(timeout\u001b[39m=\u001b[39;49m\u001b[39mself\u001b[39;49m\u001b[39m.\u001b[39;49mtimeout))\n\u001b[1;32m    936\u001b[0m     \u001b[39melse\u001b[39;00m:\n\u001b[1;32m    937\u001b[0m         \u001b[39mself\u001b[39m\u001b[39m.\u001b[39m_output\u001b[39m.\u001b[39mextend(job\u001b[39m.\u001b[39mget())\n",
      "File \u001b[0;32m/usr/lib/python3.8/multiprocessing/pool.py:765\u001b[0m, in \u001b[0;36mApplyResult.get\u001b[0;34m(self, timeout)\u001b[0m\n\u001b[1;32m    764\u001b[0m \u001b[39mdef\u001b[39;00m \u001b[39mget\u001b[39m(\u001b[39mself\u001b[39m, timeout\u001b[39m=\u001b[39m\u001b[39mNone\u001b[39;00m):\n\u001b[0;32m--> 765\u001b[0m     \u001b[39mself\u001b[39;49m\u001b[39m.\u001b[39;49mwait(timeout)\n\u001b[1;32m    766\u001b[0m     \u001b[39mif\u001b[39;00m \u001b[39mnot\u001b[39;00m \u001b[39mself\u001b[39m\u001b[39m.\u001b[39mready():\n\u001b[1;32m    767\u001b[0m         \u001b[39mraise\u001b[39;00m \u001b[39mTimeoutError\u001b[39;00m\n",
      "File \u001b[0;32m/usr/lib/python3.8/multiprocessing/pool.py:762\u001b[0m, in \u001b[0;36mApplyResult.wait\u001b[0;34m(self, timeout)\u001b[0m\n\u001b[1;32m    761\u001b[0m \u001b[39mdef\u001b[39;00m \u001b[39mwait\u001b[39m(\u001b[39mself\u001b[39m, timeout\u001b[39m=\u001b[39m\u001b[39mNone\u001b[39;00m):\n\u001b[0;32m--> 762\u001b[0m     \u001b[39mself\u001b[39;49m\u001b[39m.\u001b[39;49m_event\u001b[39m.\u001b[39;49mwait(timeout)\n",
      "File \u001b[0;32m/usr/lib/python3.8/threading.py:558\u001b[0m, in \u001b[0;36mEvent.wait\u001b[0;34m(self, timeout)\u001b[0m\n\u001b[1;32m    556\u001b[0m signaled \u001b[39m=\u001b[39m \u001b[39mself\u001b[39m\u001b[39m.\u001b[39m_flag\n\u001b[1;32m    557\u001b[0m \u001b[39mif\u001b[39;00m \u001b[39mnot\u001b[39;00m signaled:\n\u001b[0;32m--> 558\u001b[0m     signaled \u001b[39m=\u001b[39m \u001b[39mself\u001b[39;49m\u001b[39m.\u001b[39;49m_cond\u001b[39m.\u001b[39;49mwait(timeout)\n\u001b[1;32m    559\u001b[0m \u001b[39mreturn\u001b[39;00m signaled\n",
      "File \u001b[0;32m/usr/lib/python3.8/threading.py:302\u001b[0m, in \u001b[0;36mCondition.wait\u001b[0;34m(self, timeout)\u001b[0m\n\u001b[1;32m    300\u001b[0m \u001b[39mtry\u001b[39;00m:    \u001b[39m# restore state no matter what (e.g., KeyboardInterrupt)\u001b[39;00m\n\u001b[1;32m    301\u001b[0m     \u001b[39mif\u001b[39;00m timeout \u001b[39mis\u001b[39;00m \u001b[39mNone\u001b[39;00m:\n\u001b[0;32m--> 302\u001b[0m         waiter\u001b[39m.\u001b[39;49macquire()\n\u001b[1;32m    303\u001b[0m         gotit \u001b[39m=\u001b[39m \u001b[39mTrue\u001b[39;00m\n\u001b[1;32m    304\u001b[0m     \u001b[39melse\u001b[39;00m:\n",
      "\u001b[0;31mKeyboardInterrupt\u001b[0m: "
     ]
    }
   ],
   "source": [
    "clustering = OPTICS(min_samples=2, cluster_method = \"dbscan\",\n",
    "                    n_jobs = -1, algorithm = \"ball_tree\").fit(sentence_embeddings.astype(\"float16\"))"
   ]
  },
  {
   "cell_type": "code",
   "execution_count": null,
   "metadata": {},
   "outputs": [],
   "source": [
    "clustering"
   ]
  }
 ],
 "metadata": {
  "kernelspec": {
   "display_name": "Python 3.8.10 ('.ct_env': venv)",
   "language": "python",
   "name": "python3"
  },
  "language_info": {
   "codemirror_mode": {
    "name": "ipython",
    "version": 3
   },
   "file_extension": ".py",
   "mimetype": "text/x-python",
   "name": "python",
   "nbconvert_exporter": "python",
   "pygments_lexer": "ipython3",
   "version": "3.8.10"
  },
  "orig_nbformat": 4,
  "vscode": {
   "interpreter": {
    "hash": "2c6ec7b539cf7800332368bac578b39b54920a42f64a4c48a9888fb2912e6ae6"
   }
  }
 },
 "nbformat": 4,
 "nbformat_minor": 2
}
