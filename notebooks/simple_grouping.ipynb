{
 "cells": [
  {
   "cell_type": "code",
   "execution_count": 2,
   "metadata": {},
   "outputs": [],
   "source": [
    "import pandas as pd\n",
    "import numpy as np"
   ]
  },
  {
   "cell_type": "code",
   "execution_count": 3,
   "metadata": {},
   "outputs": [],
   "source": [
    "data = pd.read_csv(\"../data/location_data.csv\",index_col=None)"
   ]
  },
  {
   "cell_type": "code",
   "execution_count": 7,
   "metadata": {},
   "outputs": [
    {
     "data": {
      "text/html": [
       "<div>\n",
       "<style scoped>\n",
       "    .dataframe tbody tr th:only-of-type {\n",
       "        vertical-align: middle;\n",
       "    }\n",
       "\n",
       "    .dataframe tbody tr th {\n",
       "        vertical-align: top;\n",
       "    }\n",
       "\n",
       "    .dataframe thead th {\n",
       "        text-align: right;\n",
       "    }\n",
       "</style>\n",
       "<table border=\"1\" class=\"dataframe\">\n",
       "  <thead>\n",
       "    <tr style=\"text-align: right;\">\n",
       "      <th></th>\n",
       "      <th>city</th>\n",
       "      <th>road</th>\n",
       "      <th>house_number</th>\n",
       "      <th>postcode</th>\n",
       "      <th>state</th>\n",
       "    </tr>\n",
       "  </thead>\n",
       "  <tbody>\n",
       "    <tr>\n",
       "      <th>0</th>\n",
       "      <td>fort worth</td>\n",
       "      <td>sycamore school rd</td>\n",
       "      <td>5421</td>\n",
       "      <td>76123</td>\n",
       "      <td>texas</td>\n",
       "    </tr>\n",
       "    <tr>\n",
       "      <th>1</th>\n",
       "      <td>gautier</td>\n",
       "      <td>highway 90</td>\n",
       "      <td>2701</td>\n",
       "      <td>39553</td>\n",
       "      <td>mississippi</td>\n",
       "    </tr>\n",
       "    <tr>\n",
       "      <th>2</th>\n",
       "      <td>farmington</td>\n",
       "      <td>e main</td>\n",
       "      <td>4750</td>\n",
       "      <td>87401</td>\n",
       "      <td>nm</td>\n",
       "    </tr>\n",
       "    <tr>\n",
       "      <th>3</th>\n",
       "      <td>richland</td>\n",
       "      <td>queensgate drive</td>\n",
       "      <td>2751</td>\n",
       "      <td>99352</td>\n",
       "      <td>washington</td>\n",
       "    </tr>\n",
       "    <tr>\n",
       "      <th>4</th>\n",
       "      <td>davie</td>\n",
       "      <td>s state hwy seven</td>\n",
       "      <td>1600</td>\n",
       "      <td>33317</td>\n",
       "      <td>fl</td>\n",
       "    </tr>\n",
       "    <tr>\n",
       "      <th>...</th>\n",
       "      <td>...</td>\n",
       "      <td>...</td>\n",
       "      <td>...</td>\n",
       "      <td>...</td>\n",
       "      <td>...</td>\n",
       "    </tr>\n",
       "    <tr>\n",
       "      <th>41418</th>\n",
       "      <td>highland</td>\n",
       "      <td>baseline st</td>\n",
       "      <td>27774</td>\n",
       "      <td>92346</td>\n",
       "      <td>california</td>\n",
       "    </tr>\n",
       "    <tr>\n",
       "      <th>41419</th>\n",
       "      <td>hilliard</td>\n",
       "      <td>main st</td>\n",
       "      <td>3685</td>\n",
       "      <td>43026</td>\n",
       "      <td>ohio</td>\n",
       "    </tr>\n",
       "    <tr>\n",
       "      <th>41420</th>\n",
       "      <td>window rock</td>\n",
       "      <td>window rock loop road</td>\n",
       "      <td>264</td>\n",
       "      <td>86515</td>\n",
       "      <td>az</td>\n",
       "    </tr>\n",
       "    <tr>\n",
       "      <th>41421</th>\n",
       "      <td>denver</td>\n",
       "      <td>s santa fe dr</td>\n",
       "      <td>1395</td>\n",
       "      <td>80223</td>\n",
       "      <td>co</td>\n",
       "    </tr>\n",
       "    <tr>\n",
       "      <th>41422</th>\n",
       "      <td>pearland</td>\n",
       "      <td>n main st</td>\n",
       "      <td>1919</td>\n",
       "      <td>77581-3305</td>\n",
       "      <td>texas</td>\n",
       "    </tr>\n",
       "  </tbody>\n",
       "</table>\n",
       "<p>41423 rows × 5 columns</p>\n",
       "</div>"
      ],
      "text/plain": [
       "              city                   road house_number    postcode  \\\n",
       "0       fort worth     sycamore school rd         5421       76123   \n",
       "1          gautier             highway 90         2701       39553   \n",
       "2       farmington                 e main         4750       87401   \n",
       "3         richland       queensgate drive         2751       99352   \n",
       "4            davie      s state hwy seven         1600       33317   \n",
       "...            ...                    ...          ...         ...   \n",
       "41418     highland            baseline st        27774       92346   \n",
       "41419     hilliard                main st         3685       43026   \n",
       "41420  window rock  window rock loop road          264       86515   \n",
       "41421       denver          s santa fe dr         1395       80223   \n",
       "41422     pearland              n main st         1919  77581-3305   \n",
       "\n",
       "             state  \n",
       "0            texas  \n",
       "1      mississippi  \n",
       "2               nm  \n",
       "3       washington  \n",
       "4               fl  \n",
       "...            ...  \n",
       "41418   california  \n",
       "41419         ohio  \n",
       "41420           az  \n",
       "41421           co  \n",
       "41422        texas  \n",
       "\n",
       "[41423 rows x 5 columns]"
      ]
     },
     "execution_count": 7,
     "metadata": {},
     "output_type": "execute_result"
    }
   ],
   "source": [
    "data_no_dup = data.drop_duplicates(ignore_index=True)\n",
    "data_no_dup"
   ]
  },
  {
   "cell_type": "code",
   "execution_count": 16,
   "metadata": {},
   "outputs": [
    {
     "data": {
      "text/plain": [
       "array(['ak', 'al', 'alabama', 'alaska', 'ar', 'arizona', 'arkansas', 'az',\n",
       "       'bc', 'ca', 'california', 'carolina', 'co', 'colorado',\n",
       "       'connecticut', 'ct', 'd.c.', 'daerah khusus ibukota jakarta', 'dc',\n",
       "       'de', 'delaware', 'district of columbia', 'fl', 'florida', 'ga',\n",
       "       'georgia', 'hampshire', 'hawaii', 'hi', 'ia', 'id', 'idaho', 'il',\n",
       "       'illinois', 'in', 'indiana', 'iowa', 'island', 'kansas',\n",
       "       'kentucky', 'ks', 'ky', 'la', 'lakes', 'lombardia', 'long island',\n",
       "       'louisiana', 'ma', 'maine', 'maryland', 'massachusetts', 'md',\n",
       "       'me', 'mi', 'michigan', 'minnesota', 'mississippi', 'missouri',\n",
       "       'mn', 'mo', 'montana', 'ms', 'mt', 'nb', 'nc', 'nd', 'ne',\n",
       "       'nebraska', 'nevada', 'new hampshire', 'new jersey', 'new mexico',\n",
       "       'new york', 'nh', 'nj', 'nm', 'north carolina', 'north dakota',\n",
       "       'ns', 'nsw', 'nv', 'ny', 'oh', 'ohio', 'ok', 'oklahoma', 'on',\n",
       "       'or', 'oregon', 'pa', 'pennsylvania', 'range', 'region',\n",
       "       'rhode island', 'ri', 'river south carolina', 'sc', 'sd',\n",
       "       'south carolina', 'south dakota', 'southwest gulf coast',\n",
       "       'tennessee', 'texas', 'tn', 'tri-valley', 'tx', 'ut', 'utah', 'va',\n",
       "       'vermont', 'virginia', 'vt', 'wa', 'washington', 'west virginia',\n",
       "       'wi', 'wisconsin', 'wv', 'wy', 'wyoming', 'york'], dtype=object)"
      ]
     },
     "execution_count": 16,
     "metadata": {},
     "output_type": "execute_result"
    }
   ],
   "source": [
    "np.sort(data_no_dup[\"state\"].unique())"
   ]
  },
  {
   "cell_type": "code",
   "execution_count": 37,
   "metadata": {},
   "outputs": [
    {
     "name": "stdout",
     "output_type": "stream",
     "text": [
      "2601\n"
     ]
    }
   ],
   "source": [
    "print(data_no_dup[data_no_dup[\"state\"]==\"fl\"].shape[0] + data_no_dup[data_no_dup[\"state\"]==\"florida\"].shape[0])\n",
    "# we have 2601 addresses pertaining to florida"
   ]
  },
  {
   "cell_type": "code",
   "execution_count": 40,
   "metadata": {},
   "outputs": [],
   "source": [
    "states = {\n",
    "    \"ak\":\"alaska\",\n",
    "    \"al\":\"alabama\",\n",
    "    \"ar\":\"arkansas\",\n",
    "    \"ny\" : \"new york\",\n",
    "    \"fl\":\"florida\"\n",
    "} # manual job. It does not contain all the states. It's just an example.\n",
    "# we could search online for freely available file that would help us map this."
   ]
  },
  {
   "cell_type": "code",
   "execution_count": 41,
   "metadata": {},
   "outputs": [],
   "source": [
    "data_relabeled = data_no_dup.replace({\"state\":states})\n",
    "#faster than several for loops, I think."
   ]
  },
  {
   "cell_type": "code",
   "execution_count": 42,
   "metadata": {},
   "outputs": [
    {
     "data": {
      "text/html": [
       "<div>\n",
       "<style scoped>\n",
       "    .dataframe tbody tr th:only-of-type {\n",
       "        vertical-align: middle;\n",
       "    }\n",
       "\n",
       "    .dataframe tbody tr th {\n",
       "        vertical-align: top;\n",
       "    }\n",
       "\n",
       "    .dataframe thead th {\n",
       "        text-align: right;\n",
       "    }\n",
       "</style>\n",
       "<table border=\"1\" class=\"dataframe\">\n",
       "  <thead>\n",
       "    <tr style=\"text-align: right;\">\n",
       "      <th></th>\n",
       "      <th>city</th>\n",
       "      <th>road</th>\n",
       "      <th>house_number</th>\n",
       "      <th>postcode</th>\n",
       "      <th>state</th>\n",
       "    </tr>\n",
       "  </thead>\n",
       "  <tbody>\n",
       "  </tbody>\n",
       "</table>\n",
       "</div>"
      ],
      "text/plain": [
       "Empty DataFrame\n",
       "Columns: [city, road, house_number, postcode, state]\n",
       "Index: []"
      ]
     },
     "execution_count": 42,
     "metadata": {},
     "output_type": "execute_result"
    }
   ],
   "source": [
    "data_relabeled[data_relabeled[\"state\"]==\"fl\"] # fl has been substituted by florida"
   ]
  },
  {
   "cell_type": "code",
   "execution_count": 43,
   "metadata": {},
   "outputs": [
    {
     "data": {
      "text/plain": [
       "2601"
      ]
     },
     "execution_count": 43,
     "metadata": {},
     "output_type": "execute_result"
    }
   ],
   "source": [
    "data_relabeled[data_relabeled[\"state\"]==\"florida\"].shape[0]"
   ]
  },
  {
   "cell_type": "code",
   "execution_count": 47,
   "metadata": {},
   "outputs": [],
   "source": [
    "data_relabeled[\"full_address\"] = data_relabeled[\"road\"] +\"_\"+ data_relabeled[\"house_number\"]+\"_\"+data_relabeled[\"postcode\"]"
   ]
  },
  {
   "cell_type": "code",
   "execution_count": 49,
   "metadata": {},
   "outputs": [],
   "source": [
    "df_final = data_relabeled[[\"state\",\"city\",\"full_address\"]].groupby([\"state\",\"city\"]).agg(list)"
   ]
  },
  {
   "cell_type": "code",
   "execution_count": 50,
   "metadata": {},
   "outputs": [],
   "source": [
    "df_final.to_csv(\"../data/results_simple_grouping.csv\")"
   ]
  },
  {
   "cell_type": "code",
   "execution_count": null,
   "metadata": {},
   "outputs": [],
   "source": []
  }
 ],
 "metadata": {
  "kernelspec": {
   "display_name": "Python 3.10.4 ('.ct_env': venv)",
   "language": "python",
   "name": "python3"
  },
  "language_info": {
   "codemirror_mode": {
    "name": "ipython",
    "version": 3
   },
   "file_extension": ".py",
   "mimetype": "text/x-python",
   "name": "python",
   "nbconvert_exporter": "python",
   "pygments_lexer": "ipython3",
   "version": "3.10.4"
  },
  "orig_nbformat": 4,
  "vscode": {
   "interpreter": {
    "hash": "8bc348ed08ec28b38430514b764d8c021b505943a2005a8e8a67a9efb800c509"
   }
  }
 },
 "nbformat": 4,
 "nbformat_minor": 2
}
